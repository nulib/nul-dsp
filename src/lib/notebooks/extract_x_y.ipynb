{
 "cells": [
  {
   "cell_type": "code",
   "execution_count": 2,
   "metadata": {},
   "outputs": [
    {
     "name": "stderr",
     "output_type": "stream",
     "text": [
      "/var/folders/c7/xzjjdcf96dv6709934b58gz5hzqy65/T/ipykernel_23013/1362587073.py:1: DeprecationWarning: \n",
      "Pyarrow will become a required dependency of pandas in the next major release of pandas (pandas 3.0),\n",
      "(to allow more performant data types, such as the Arrow string type, and better interoperability with other libraries)\n",
      "but was not found to be installed on your system.\n",
      "If this would cause problems for you,\n",
      "please provide us feedback at https://github.com/pandas-dev/pandas/issues/54466\n",
      "        \n",
      "  import pandas as pd\n"
     ]
    }
   ],
   "source": [
    "import pandas as pd\n",
    "\n",
    "# Load the JSON file\n",
    "file_path = '/Users/aja0137/Documents/projects/vector-viz-demo/src/data/vectors_tsne_new.ndjson'\n",
    "df = pd.read_json(file_path)\n",
    "\n",
    "# Extract only the t-SNE data\n",
    "tsne_data = df[['x', 'y']]\n",
    "\n",
    "# Optionally, convert it to a dictionary or another format as needed\n",
    "tsne_data_dict = tsne_data.to_dict(orient='records')\n",
    "\n",
    "# Output the data\n",
    "tsne_data.to_json('tsne_data_x_y.json', orient='records')"
   ]
  }
 ],
 "metadata": {
  "kernelspec": {
   "display_name": "Python 3",
   "language": "python",
   "name": "python3"
  },
  "language_info": {
   "codemirror_mode": {
    "name": "ipython",
    "version": 3
   },
   "file_extension": ".py",
   "mimetype": "text/x-python",
   "name": "python",
   "nbconvert_exporter": "python",
   "pygments_lexer": "ipython3",
   "version": "3.11.4"
  }
 },
 "nbformat": 4,
 "nbformat_minor": 2
}
